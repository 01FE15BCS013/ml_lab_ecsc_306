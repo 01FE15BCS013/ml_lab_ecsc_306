{
 "cells": [
  {
   "cell_type": "markdown",
   "metadata": {
    "slideshow": {
     "slide_type": "slide"
    }
   },
   "source": [
    "# Machine Learning - Tutorial Lab\n"
   ]
  },
  {
   "cell_type": "markdown",
   "metadata": {
    "slideshow": {
     "slide_type": "slide"
    }
   },
   "source": [
    "## Lab 1 : Introduction to Tools And Usage\n",
    "\n",
    "\n",
    "* ### Git & Github Usage\n",
    "\n",
    "* ### Tensorflow  & TensorBoard Usage"
   ]
  },
  {
   "cell_type": "markdown",
   "metadata": {
    "slideshow": {
     "slide_type": "slide"
    }
   },
   "source": [
    "### Why Git\n",
    "\n",
    "\n"
   ]
  },
  {
   "cell_type": "code",
   "execution_count": 1,
   "metadata": {
    "collapsed": true,
    "slideshow": {
     "slide_type": "subslide"
    }
   },
   "outputs": [],
   "source": [
    "#### Source Code Management Tool"
   ]
  },
  {
   "cell_type": "markdown",
   "metadata": {
    "collapsed": true,
    "slideshow": {
     "slide_type": "slide"
    }
   },
   "source": [
    "### Other SCM Tools\n",
    "\n",
    "\n",
    "1. ### SCCS - Source Code Control Systems\n",
    "2. ### Apache Subversion - SVN \n",
    "3. ### bitbucket\n"
   ]
  },
  {
   "cell_type": "markdown",
   "metadata": {
    "slideshow": {
     "slide_type": "slide"
    }
   },
   "source": [
    "## Basic Git Commands\n",
    "\n",
    "\n",
    "## #To fetch/copy project\n",
    "\n",
    "\n",
    "\n",
    "git clone projectFile\n",
    "\n",
    "Ex. \n",
    "\n",
    "git clone https://github.com/sachinsshetty/ml_lab_ecsc_306.git\n",
    "\n",
    "\n"
   ]
  },
  {
   "cell_type": "markdown",
   "metadata": {
    "slideshow": {
     "slide_type": "slide"
    }
   },
   "source": [
    "\n",
    "### Add file to staging index \n",
    "\n",
    "git add fileName\n",
    "\n",
    "\n",
    "\n",
    "git add example1.ipynb\n",
    "\n",
    "\n",
    "\n",
    "### To check status \n",
    "\n",
    "git status\n",
    "\n",
    "\n",
    "\n",
    "### To Commit file to repository\n",
    "\n",
    "\n",
    "git commit -m \"Message For Commit\"\n",
    "\n",
    "\n",
    "\n"
   ]
  },
  {
   "cell_type": "markdown",
   "metadata": {
    "slideshow": {
     "slide_type": "slide"
    }
   },
   "source": [
    "### To undo changes\n",
    "\n",
    "#### From working directory\n",
    "\n",
    "\n",
    "git checkout -- filename\n",
    "\n",
    "Ex. \n",
    "\n",
    "git checkout file1.ipynb\n",
    "\n",
    "\n",
    "\n",
    "#### From staging index\n",
    "\n",
    "git reset HEAD filename\n",
    "\n",
    "Ex. \n",
    "\n",
    "git reset HEAD filename.html\n",
    "\n",
    "\n"
   ]
  },
  {
   "cell_type": "markdown",
   "metadata": {
    "collapsed": true,
    "slideshow": {
     "slide_type": "slide"
    }
   },
   "source": [
    "## Tensorflow and TensorBoard\n",
    "\n"
   ]
  },
  {
   "cell_type": "markdown",
   "metadata": {
    "slideshow": {
     "slide_type": "slide"
    }
   },
   "source": [
    "## Other frameworks used for Machine Learning\n",
    "\n",
    "1. ### Theano \n",
    "2. ### Torch\n",
    "3. ### Caffe\n",
    "4. ### SciKit Learn"
   ]
  },
  {
   "cell_type": "code",
   "execution_count": null,
   "metadata": {
    "collapsed": true
   },
   "outputs": [],
   "source": []
  }
 ],
 "metadata": {
  "celltoolbar": "Slideshow",
  "kernelspec": {
   "display_name": "Python 2",
   "language": "python",
   "name": "python2"
  },
  "language_info": {
   "codemirror_mode": {
    "name": "ipython",
    "version": 2
   },
   "file_extension": ".py",
   "mimetype": "text/x-python",
   "name": "python",
   "nbconvert_exporter": "python",
   "pygments_lexer": "ipython2",
   "version": "2.7.6"
  }
 },
 "nbformat": 4,
 "nbformat_minor": 2
}
